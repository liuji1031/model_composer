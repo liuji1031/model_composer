{
 "cells": [
  {
   "cell_type": "code",
   "execution_count": 1,
   "id": "4dd9d1f0",
   "metadata": {},
   "outputs": [],
   "source": [
    "%load_ext autoreload\n",
    "%autoreload 2"
   ]
  },
  {
   "cell_type": "markdown",
   "id": "ece0f793",
   "metadata": {},
   "source": [
    "### Register Custom Modules\n",
    "In the GoogLeNet YAML file, two custom modules are needed: ***DepthConcat*** and ***Conv2d***. The ***DepthConcat*** module is used to concatenate the outputs of the Inception modules along the depth dimension, while the ***Conv2d*** module is a standard 2D convolutional layer with batch normalization and ReLU activation.\n",
    "\n",
    "This highlights the idea that the user can choose to implement bottom level modules at a level of granularity that is appropriate for their application."
   ]
  },
  {
   "cell_type": "code",
   "execution_count": null,
   "id": "eee3b869",
   "metadata": {},
   "outputs": [],
   "source": [
    "import torch\n",
    "from model_composer import ModuleRegistry\n",
    "\n",
    "\n",
    "@ModuleRegistry.register(\"DepthConcat\")\n",
    "class DepthConcat(torch.nn.Module):\n",
    "    \"\"\"Concatenate the inputs along the specified dimension.\"\"\"\n",
    "\n",
    "    def __init__(self, dim=1):\n",
    "        super().__init__()\n",
    "        self.dim = dim\n",
    "\n",
    "    def forward(self, *inputs):\n",
    "        return torch.cat(inputs, dim=self.dim)\n",
    "\n",
    "\n",
    "@ModuleRegistry.register(\"Conv2d\")\n",
    "class Conv2d(torch.nn.Module):\n",
    "    \"\"\"A simple wrapper around torch.nn.Conv2d.\"\"\"\n",
    "\n",
    "    def __init__(self, in_channels, out_channels, kernel_size, stride, padding):\n",
    "        super().__init__()\n",
    "        self.conv2d = torch.nn.Conv2d(\n",
    "            in_channels, out_channels, kernel_size, stride, padding\n",
    "        )\n",
    "        self.bn = torch.nn.BatchNorm2d(out_channels)\n",
    "        self.relu = torch.nn.ReLU()\n",
    "\n",
    "    def forward(self, x):\n",
    "        return self.relu(self.bn(self.conv2d(x)))"
   ]
  },
  {
   "cell_type": "markdown",
   "id": "2cfd35fe",
   "metadata": {},
   "source": [
    "### Build the Full Model"
   ]
  },
  {
   "cell_type": "code",
   "execution_count": 3,
   "id": "6be8aa46",
   "metadata": {},
   "outputs": [
    {
     "name": "stdout",
     "output_type": "stream",
     "text": [
      "Building module GoogLeNet.input\n",
      "Building module GoogLeNet.convolution_1\n",
      "Building module GoogLeNet.maxpool_1\n",
      "Building module GoogLeNet.convolution_2_reduce\n",
      "Building module GoogLeNet.convolution_2\n",
      "Building module GoogLeNet.maxpool_2\n",
      "Building module GoogLeNet.inception_3a\n",
      "Building module inception_3a.input\n",
      "Building module inception_3a.conv1x1_3x3reduce\n",
      "Building module inception_3a.conv1x1_5x5reduce\n",
      "Building module inception_3a.maxpool\n",
      "Building module inception_3a.conv1x1\n",
      "Building module inception_3a.conv3x3\n",
      "Building module inception_3a.conv5x5\n",
      "Building module inception_3a.conv1x1_pool_proj\n",
      "Building module inception_3a.concat\n",
      "Building module inception_3a.output\n",
      "Building module GoogLeNet.inception_3b\n",
      "Building module inception_3b.input\n",
      "Building module inception_3b.conv1x1_3x3reduce\n",
      "Building module inception_3b.conv1x1_5x5reduce\n",
      "Building module inception_3b.maxpool\n",
      "Building module inception_3b.conv1x1\n",
      "Building module inception_3b.conv3x3\n",
      "Building module inception_3b.conv5x5\n",
      "Building module inception_3b.conv1x1_pool_proj\n",
      "Building module inception_3b.concat\n",
      "Building module inception_3b.output\n",
      "Building module GoogLeNet.maxpool_3\n",
      "Building module GoogLeNet.inception_4a\n",
      "Building module inception_4a.input\n",
      "Building module inception_4a.conv1x1_3x3reduce\n",
      "Building module inception_4a.conv1x1_5x5reduce\n",
      "Building module inception_4a.maxpool\n",
      "Building module inception_4a.conv1x1\n",
      "Building module inception_4a.conv3x3\n",
      "Building module inception_4a.conv5x5\n",
      "Building module inception_4a.conv1x1_pool_proj\n",
      "Building module inception_4a.concat\n",
      "Building module inception_4a.output\n",
      "Building module GoogLeNet.inception_4b\n",
      "Building module inception_4b.input\n",
      "Building module inception_4b.conv1x1_3x3reduce\n",
      "Building module inception_4b.conv1x1_5x5reduce\n",
      "Building module inception_4b.maxpool\n",
      "Building module inception_4b.conv1x1\n",
      "Building module inception_4b.conv3x3\n",
      "Building module inception_4b.conv5x5\n",
      "Building module inception_4b.conv1x1_pool_proj\n",
      "Building module inception_4b.concat\n",
      "Building module inception_4b.output\n",
      "Building module GoogLeNet.inception_4c\n",
      "Building module inception_4c.input\n",
      "Building module inception_4c.conv1x1_3x3reduce\n",
      "Building module inception_4c.conv1x1_5x5reduce\n",
      "Building module inception_4c.maxpool\n",
      "Building module inception_4c.conv1x1\n",
      "Building module inception_4c.conv3x3\n",
      "Building module inception_4c.conv5x5\n",
      "Building module inception_4c.conv1x1_pool_proj\n",
      "Building module inception_4c.concat\n",
      "Building module inception_4c.output\n",
      "Building module GoogLeNet.inception_4d\n",
      "Building module inception_4d.input\n",
      "Building module inception_4d.conv1x1_3x3reduce\n",
      "Building module inception_4d.conv1x1_5x5reduce\n",
      "Building module inception_4d.maxpool\n",
      "Building module inception_4d.conv1x1\n",
      "Building module inception_4d.conv3x3\n",
      "Building module inception_4d.conv5x5\n",
      "Building module inception_4d.conv1x1_pool_proj\n",
      "Building module inception_4d.concat\n",
      "Building module inception_4d.output\n",
      "Building module GoogLeNet.inception_4e\n",
      "Building module inception_4e.input\n",
      "Building module inception_4e.conv1x1_3x3reduce\n",
      "Building module inception_4e.conv1x1_5x5reduce\n",
      "Building module inception_4e.maxpool\n",
      "Building module inception_4e.conv1x1\n",
      "Building module inception_4e.conv3x3\n",
      "Building module inception_4e.conv5x5\n",
      "Building module inception_4e.conv1x1_pool_proj\n",
      "Building module inception_4e.concat\n",
      "Building module inception_4e.output\n",
      "Building module GoogLeNet.maxpool_4\n",
      "Building module GoogLeNet.inception_5a\n",
      "Building module inception_5a.input\n",
      "Building module inception_5a.conv1x1_3x3reduce\n",
      "Building module inception_5a.conv1x1_5x5reduce\n",
      "Building module inception_5a.maxpool\n",
      "Building module inception_5a.conv1x1\n",
      "Building module inception_5a.conv3x3\n",
      "Building module inception_5a.conv5x5\n",
      "Building module inception_5a.conv1x1_pool_proj\n",
      "Building module inception_5a.concat\n",
      "Building module inception_5a.output\n",
      "Building module GoogLeNet.inception_5b\n",
      "Building module inception_5b.input\n",
      "Building module inception_5b.conv1x1_3x3reduce\n",
      "Building module inception_5b.conv1x1_5x5reduce\n",
      "Building module inception_5b.maxpool\n",
      "Building module inception_5b.conv1x1\n",
      "Building module inception_5b.conv3x3\n",
      "Building module inception_5b.conv5x5\n",
      "Building module inception_5b.conv1x1_pool_proj\n",
      "Building module inception_5b.concat\n",
      "Building module inception_5b.output\n",
      "Building module GoogLeNet.avgpool\n",
      "Building module GoogLeNet.dropout\n",
      "Building module GoogLeNet.flatten\n",
      "Building module GoogLeNet.linear\n",
      "Building module GoogLeNet.softmax\n",
      "Building module GoogLeNet.auxiliary_classifier_4a\n",
      "Building module auxiliary_classifier_4a.input\n",
      "Building module auxiliary_classifier_4a.avgpool\n",
      "Building module auxiliary_classifier_4a.conv1x1\n",
      "Building module auxiliary_classifier_4a.flatten\n",
      "Building module auxiliary_classifier_4a.linear\n",
      "Building module auxiliary_classifier_4a.relu\n",
      "Building module auxiliary_classifier_4a.dropout\n",
      "Building module auxiliary_classifier_4a.linear_2\n",
      "Building module auxiliary_classifier_4a.softmax\n",
      "Building module auxiliary_classifier_4a.output\n",
      "Building module GoogLeNet.auxiliary_classifier_4b\n",
      "Building module auxiliary_classifier_4b.input\n",
      "Building module auxiliary_classifier_4b.avgpool\n",
      "Building module auxiliary_classifier_4b.conv1x1\n",
      "Building module auxiliary_classifier_4b.flatten\n",
      "Building module auxiliary_classifier_4b.linear\n",
      "Building module auxiliary_classifier_4b.relu\n",
      "Building module auxiliary_classifier_4b.dropout\n",
      "Building module auxiliary_classifier_4b.linear_2\n",
      "Building module auxiliary_classifier_4b.softmax\n",
      "Building module auxiliary_classifier_4b.output\n",
      "Building module GoogLeNet.output\n"
     ]
    }
   ],
   "source": [
    "from model_composer import read_config, ComposableModel\n",
    "\n",
    "cfg = read_config(\"example/yaml/GoogLeNet/model.yaml\")\n",
    "model = ComposableModel(**cfg)"
   ]
  },
  {
   "cell_type": "markdown",
   "id": "a3eeb5cf",
   "metadata": {},
   "source": [
    "Examine the input source and output destination of the model:"
   ]
  },
  {
   "cell_type": "code",
   "execution_count": 4,
   "id": "89ca5605",
   "metadata": {},
   "outputs": [
    {
     "data": {
      "text/plain": [
       "{'input': ['x'],\n",
       " 'convolution_1': ['x'],\n",
       " 'maxpool_1': ['convolution_1'],\n",
       " 'convolution_2_reduce': ['maxpool_1'],\n",
       " 'convolution_2': ['convolution_2_reduce'],\n",
       " 'maxpool_2': ['convolution_2'],\n",
       " 'inception_3a': ['maxpool_2'],\n",
       " 'inception_3b': ['inception_3a'],\n",
       " 'maxpool_3': ['inception_3b'],\n",
       " 'inception_4a': ['maxpool_3'],\n",
       " 'inception_4b': ['inception_4a'],\n",
       " 'inception_4c': ['inception_4b'],\n",
       " 'inception_4d': ['inception_4c'],\n",
       " 'inception_4e': ['inception_4d'],\n",
       " 'maxpool_4': ['inception_4e'],\n",
       " 'inception_5a': ['maxpool_4'],\n",
       " 'inception_5b': ['inception_5a'],\n",
       " 'avgpool': ['inception_5b'],\n",
       " 'dropout': ['avgpool'],\n",
       " 'flatten': ['dropout'],\n",
       " 'linear': ['flatten'],\n",
       " 'softmax': ['linear'],\n",
       " 'auxiliary_classifier_4a': ['inception_4a'],\n",
       " 'auxiliary_classifier_4b': ['inception_4d'],\n",
       " 'output': ['auxiliary_classifier_4a', 'auxiliary_classifier_4b', 'softmax']}"
      ]
     },
     "execution_count": 4,
     "metadata": {},
     "output_type": "execute_result"
    }
   ],
   "source": [
    "model._inp_src"
   ]
  },
  {
   "cell_type": "code",
   "execution_count": 5,
   "id": "cd24a0f9",
   "metadata": {},
   "outputs": [
    {
     "data": {
      "text/plain": [
       "{'x': ['convolution_1.input.0'],\n",
       " 'convolution_1': ['maxpool_1.input.0'],\n",
       " 'maxpool_1': ['convolution_2_reduce.input.0'],\n",
       " 'convolution_2_reduce': ['convolution_2.input.0'],\n",
       " 'convolution_2': ['maxpool_2.input.0'],\n",
       " 'maxpool_2': ['inception_3a.input.0'],\n",
       " 'inception_3a': ['inception_3b.input.0'],\n",
       " 'inception_3b': ['maxpool_3.input.0'],\n",
       " 'maxpool_3': ['inception_4a.input.0'],\n",
       " 'inception_4a': ['inception_4b.input.0', 'auxiliary_classifier_4a.input.0'],\n",
       " 'inception_4b': ['inception_4c.input.0'],\n",
       " 'inception_4c': ['inception_4d.input.0'],\n",
       " 'inception_4d': ['inception_4e.input.0', 'auxiliary_classifier_4b.input.0'],\n",
       " 'inception_4e': ['maxpool_4.input.0'],\n",
       " 'maxpool_4': ['inception_5a.input.0'],\n",
       " 'inception_5a': ['inception_5b.input.0'],\n",
       " 'inception_5b': ['avgpool.input.0'],\n",
       " 'avgpool': ['dropout.input.0'],\n",
       " 'dropout': ['flatten.input.0'],\n",
       " 'flatten': ['linear.input.0'],\n",
       " 'linear': ['softmax.input.0']}"
      ]
     },
     "execution_count": 5,
     "metadata": {},
     "output_type": "execute_result"
    }
   ],
   "source": [
    "model._des"
   ]
  },
  {
   "cell_type": "markdown",
   "id": "aaa7dca9",
   "metadata": {},
   "source": [
    "Verifying the output shape:"
   ]
  },
  {
   "cell_type": "code",
   "execution_count": 6,
   "id": "a840761a",
   "metadata": {},
   "outputs": [
    {
     "name": "stderr",
     "output_type": "stream",
     "text": [
      "\u001b[32m2025-05-11 09:21:03.327\u001b[0m | \u001b[1mINFO    \u001b[0m | \u001b[36mmodel_composer.composer\u001b[0m:\u001b[36mforward\u001b[0m:\u001b[36m228\u001b[0m - \u001b[1mModule convolution_1 output shape: [torch.Size([1, 64, 112, 112])]\u001b[0m\n",
      "\u001b[32m2025-05-11 09:21:03.334\u001b[0m | \u001b[1mINFO    \u001b[0m | \u001b[36mmodel_composer.composer\u001b[0m:\u001b[36mforward\u001b[0m:\u001b[36m228\u001b[0m - \u001b[1mModule maxpool_1 output shape: [torch.Size([1, 64, 56, 56])]\u001b[0m\n",
      "\u001b[32m2025-05-11 09:21:03.340\u001b[0m | \u001b[1mINFO    \u001b[0m | \u001b[36mmodel_composer.composer\u001b[0m:\u001b[36mforward\u001b[0m:\u001b[36m228\u001b[0m - \u001b[1mModule convolution_2_reduce output shape: [torch.Size([1, 64, 56, 56])]\u001b[0m\n",
      "\u001b[32m2025-05-11 09:21:03.350\u001b[0m | \u001b[1mINFO    \u001b[0m | \u001b[36mmodel_composer.composer\u001b[0m:\u001b[36mforward\u001b[0m:\u001b[36m228\u001b[0m - \u001b[1mModule convolution_2 output shape: [torch.Size([1, 192, 56, 56])]\u001b[0m\n",
      "\u001b[32m2025-05-11 09:21:03.355\u001b[0m | \u001b[1mINFO    \u001b[0m | \u001b[36mmodel_composer.composer\u001b[0m:\u001b[36mforward\u001b[0m:\u001b[36m228\u001b[0m - \u001b[1mModule maxpool_2 output shape: [torch.Size([1, 192, 28, 28])]\u001b[0m\n",
      "\u001b[32m2025-05-11 09:21:03.375\u001b[0m | \u001b[1mINFO    \u001b[0m | \u001b[36mmodel_composer.composer\u001b[0m:\u001b[36mforward\u001b[0m:\u001b[36m228\u001b[0m - \u001b[1mModule inception_3a output shape: [torch.Size([1, 256, 28, 28])]\u001b[0m\n",
      "\u001b[32m2025-05-11 09:21:03.397\u001b[0m | \u001b[1mINFO    \u001b[0m | \u001b[36mmodel_composer.composer\u001b[0m:\u001b[36mforward\u001b[0m:\u001b[36m228\u001b[0m - \u001b[1mModule inception_3b output shape: [torch.Size([1, 480, 28, 28])]\u001b[0m\n",
      "\u001b[32m2025-05-11 09:21:03.401\u001b[0m | \u001b[1mINFO    \u001b[0m | \u001b[36mmodel_composer.composer\u001b[0m:\u001b[36mforward\u001b[0m:\u001b[36m228\u001b[0m - \u001b[1mModule maxpool_3 output shape: [torch.Size([1, 480, 14, 14])]\u001b[0m\n",
      "\u001b[32m2025-05-11 09:21:03.421\u001b[0m | \u001b[1mINFO    \u001b[0m | \u001b[36mmodel_composer.composer\u001b[0m:\u001b[36mforward\u001b[0m:\u001b[36m228\u001b[0m - \u001b[1mModule inception_4a output shape: [torch.Size([1, 512, 14, 14])]\u001b[0m\n",
      "\u001b[32m2025-05-11 09:21:03.437\u001b[0m | \u001b[1mINFO    \u001b[0m | \u001b[36mmodel_composer.composer\u001b[0m:\u001b[36mforward\u001b[0m:\u001b[36m228\u001b[0m - \u001b[1mModule inception_4b output shape: [torch.Size([1, 512, 14, 14])]\u001b[0m\n",
      "\u001b[32m2025-05-11 09:21:03.450\u001b[0m | \u001b[1mINFO    \u001b[0m | \u001b[36mmodel_composer.composer\u001b[0m:\u001b[36mforward\u001b[0m:\u001b[36m228\u001b[0m - \u001b[1mModule auxiliary_classifier_4a output shape: [torch.Size([1, 1000])]\u001b[0m\n",
      "\u001b[32m2025-05-11 09:21:03.462\u001b[0m | \u001b[1mINFO    \u001b[0m | \u001b[36mmodel_composer.composer\u001b[0m:\u001b[36mforward\u001b[0m:\u001b[36m228\u001b[0m - \u001b[1mModule inception_4c output shape: [torch.Size([1, 512, 14, 14])]\u001b[0m\n",
      "\u001b[32m2025-05-11 09:21:03.474\u001b[0m | \u001b[1mINFO    \u001b[0m | \u001b[36mmodel_composer.composer\u001b[0m:\u001b[36mforward\u001b[0m:\u001b[36m228\u001b[0m - \u001b[1mModule inception_4d output shape: [torch.Size([1, 528, 14, 14])]\u001b[0m\n",
      "\u001b[32m2025-05-11 09:21:03.491\u001b[0m | \u001b[1mINFO    \u001b[0m | \u001b[36mmodel_composer.composer\u001b[0m:\u001b[36mforward\u001b[0m:\u001b[36m228\u001b[0m - \u001b[1mModule inception_4e output shape: [torch.Size([1, 832, 14, 14])]\u001b[0m\n",
      "\u001b[32m2025-05-11 09:21:03.495\u001b[0m | \u001b[1mINFO    \u001b[0m | \u001b[36mmodel_composer.composer\u001b[0m:\u001b[36mforward\u001b[0m:\u001b[36m228\u001b[0m - \u001b[1mModule auxiliary_classifier_4b output shape: [torch.Size([1, 1000])]\u001b[0m\n",
      "\u001b[32m2025-05-11 09:21:03.497\u001b[0m | \u001b[1mINFO    \u001b[0m | \u001b[36mmodel_composer.composer\u001b[0m:\u001b[36mforward\u001b[0m:\u001b[36m228\u001b[0m - \u001b[1mModule maxpool_4 output shape: [torch.Size([1, 832, 7, 7])]\u001b[0m\n",
      "\u001b[32m2025-05-11 09:21:03.510\u001b[0m | \u001b[1mINFO    \u001b[0m | \u001b[36mmodel_composer.composer\u001b[0m:\u001b[36mforward\u001b[0m:\u001b[36m228\u001b[0m - \u001b[1mModule inception_5a output shape: [torch.Size([1, 832, 7, 7])]\u001b[0m\n",
      "\u001b[32m2025-05-11 09:21:03.521\u001b[0m | \u001b[1mINFO    \u001b[0m | \u001b[36mmodel_composer.composer\u001b[0m:\u001b[36mforward\u001b[0m:\u001b[36m228\u001b[0m - \u001b[1mModule inception_5b output shape: [torch.Size([1, 1024, 7, 7])]\u001b[0m\n",
      "\u001b[32m2025-05-11 09:21:03.524\u001b[0m | \u001b[1mINFO    \u001b[0m | \u001b[36mmodel_composer.composer\u001b[0m:\u001b[36mforward\u001b[0m:\u001b[36m228\u001b[0m - \u001b[1mModule avgpool output shape: [torch.Size([1, 1024, 1, 1])]\u001b[0m\n",
      "\u001b[32m2025-05-11 09:21:03.526\u001b[0m | \u001b[1mINFO    \u001b[0m | \u001b[36mmodel_composer.composer\u001b[0m:\u001b[36mforward\u001b[0m:\u001b[36m228\u001b[0m - \u001b[1mModule dropout output shape: [torch.Size([1, 1024, 1, 1])]\u001b[0m\n",
      "\u001b[32m2025-05-11 09:21:03.527\u001b[0m | \u001b[1mINFO    \u001b[0m | \u001b[36mmodel_composer.composer\u001b[0m:\u001b[36mforward\u001b[0m:\u001b[36m228\u001b[0m - \u001b[1mModule flatten output shape: [torch.Size([1, 1024])]\u001b[0m\n",
      "\u001b[32m2025-05-11 09:21:03.529\u001b[0m | \u001b[1mINFO    \u001b[0m | \u001b[36mmodel_composer.composer\u001b[0m:\u001b[36mforward\u001b[0m:\u001b[36m228\u001b[0m - \u001b[1mModule linear output shape: [torch.Size([1, 1000])]\u001b[0m\n",
      "\u001b[32m2025-05-11 09:21:03.530\u001b[0m | \u001b[1mINFO    \u001b[0m | \u001b[36mmodel_composer.composer\u001b[0m:\u001b[36mforward\u001b[0m:\u001b[36m228\u001b[0m - \u001b[1mModule softmax output shape: [torch.Size([1, 1000])]\u001b[0m\n",
      "\u001b[32m2025-05-11 09:21:03.532\u001b[0m | \u001b[1mINFO    \u001b[0m | \u001b[36m__main__\u001b[0m:\u001b[36m<module>\u001b[0m:\u001b[36m7\u001b[0m - \u001b[1mOutput 0 shape: torch.Size([1, 1000])\u001b[0m\n",
      "\u001b[32m2025-05-11 09:21:03.533\u001b[0m | \u001b[1mINFO    \u001b[0m | \u001b[36m__main__\u001b[0m:\u001b[36m<module>\u001b[0m:\u001b[36m7\u001b[0m - \u001b[1mOutput 1 shape: torch.Size([1, 1000])\u001b[0m\n",
      "\u001b[32m2025-05-11 09:21:03.534\u001b[0m | \u001b[1mINFO    \u001b[0m | \u001b[36m__main__\u001b[0m:\u001b[36m<module>\u001b[0m:\u001b[36m7\u001b[0m - \u001b[1mOutput 2 shape: torch.Size([1, 1000])\u001b[0m\n"
     ]
    }
   ],
   "source": [
    "from loguru import logger\n",
    "import torch\n",
    "\n",
    "input = torch.randn(1, 3, 224, 224)\n",
    "output = model(input, print_output_shape=True)\n",
    "for k, out in enumerate(output):\n",
    "    logger.info(f\"Output {k} shape: {out.shape}\")"
   ]
  }
 ],
 "metadata": {
  "kernelspec": {
   "display_name": ".venv",
   "language": "python",
   "name": "python3"
  },
  "language_info": {
   "codemirror_mode": {
    "name": "ipython",
    "version": 3
   },
   "file_extension": ".py",
   "mimetype": "text/x-python",
   "name": "python",
   "nbconvert_exporter": "python",
   "pygments_lexer": "ipython3",
   "version": "3.12.8"
  }
 },
 "nbformat": 4,
 "nbformat_minor": 5
}
